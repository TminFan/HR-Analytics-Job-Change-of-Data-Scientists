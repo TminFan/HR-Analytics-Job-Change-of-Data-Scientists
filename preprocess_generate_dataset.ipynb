{
 "cells": [
  {
   "cell_type": "code",
   "execution_count": 1,
   "metadata": {},
   "outputs": [],
   "source": [
    "import os\n",
    "\n",
    "import pandas as pd\n",
    "import numpy as np\n",
    "from sklearn import preprocessing\n",
    "from sklearn.model_selection import train_test_split\n",
    "\n",
    "import matplotlib.pyplot as plt"
   ]
  },
  {
   "cell_type": "markdown",
   "metadata": {},
   "source": [
    "## Contents\n",
    "1. <a href=\"#section_1\">Import Data</a>\n",
    "2. <a href=\"#section_2\">Dealing with Missing Values</a>\n",
    "3. <a href=\"#section_3\">Scaling Numerical Data and Encoding Categorical Data</a>\n",
    "4. <a href=\"#section_4\">Split Train and Test Sets</a>\n",
    "5. <a href=\"#section_5\">Resample Train Dataset</a>"
   ]
  },
  {
   "cell_type": "markdown",
   "metadata": {},
   "source": [
    "<a id=\"section_1\"></a>\n",
    "#### Import Data"
   ]
  },
  {
   "cell_type": "code",
   "execution_count": 2,
   "metadata": {},
   "outputs": [],
   "source": [
    "root_dir = os.getcwd()"
   ]
  },
  {
   "cell_type": "code",
   "execution_count": 3,
   "metadata": {},
   "outputs": [],
   "source": [
    "train_ds = pd.read_csv(os.path.join(root_dir, \"trainfile.csv\"))\n",
    "predict_ds = pd.read_csv(os.path.join(root_dir, \"testfile.csv\"))"
   ]
  },
  {
   "cell_type": "markdown",
   "metadata": {},
   "source": [
    "<a id=\"section_2\"></a>\n",
    "#### Dealing with Missing Values"
   ]
  },
  {
   "cell_type": "code",
   "execution_count": 5,
   "metadata": {},
   "outputs": [],
   "source": [
    "def find_nullvalue_cols(dataframe):\n",
    "    \"\"\"\n",
    "    This function is to output a list of column names that the columns in the dataframe have null\n",
    "    values.\n",
    "    \"\"\"\n",
    "\n",
    "    nullvalue_cols_list = [col_name for col_name in dataframe.columns if dataframe[col_name].isna().sum()>0]\n",
    "    full_cols_list = dataframe.columns.tolist()\n",
    "    for col in full_cols_list:\n",
    "        \n",
    "        # Apart from checking if columns have null/missing values,\n",
    "        # it is also better to check unique values of each column\n",
    "        # in case some null values are in str type, such as \"NONE\", \"none\" or \"None\".\n",
    "        # Above none values cannot be detected by pd.isna or pd.isnull.\n",
    "        unique_value_list = dataframe[col].unique().tolist()\n",
    "        if \"None\" and \"NONE\" and \"none\" in unique_value_list:\n",
    "            nullvalue_cols_list.append(col)\n",
    "        else:\n",
    "            continue\n",
    "    return nullvalue_cols_list\n",
    "\n",
    "def unique_values(dataframe):\n",
    "    \"\"\"\n",
    "    This function is to create a dictionary that keys are column names and\n",
    "    values are columns' unique values. \n",
    "    \"\"\"\n",
    "    \n",
    "    unique_values = {}\n",
    "    for col_name in dataframe.columns.tolist():\n",
    "        col_unique_values = dataframe[col_name].unique().tolist()\n",
    "        unique_values[col_name] = col_unique_values\n",
    "    \n",
    "    return unique_values\n",
    "\n",
    "def replace_nullvalues(dataframe, fill_value_list):\n",
    "    \"\"\"\n",
    "    This function is to fill null/missing values of columns with your chosen values.\n",
    "    \"\"\"\n",
    "\n",
    "    nullvalue_cols_list = find_nullvalue_cols(dataframe)\n",
    "    for null_col_name_index in range(len(nullvalue_cols_list)):\n",
    "\n",
    "        null_col_name = nullvalue_cols_list[null_col_name_index]\n",
    "        fill_value = fill_value_list[null_col_name_index]\n",
    "        dataframe[null_col_name].fillna(value=fill_value, inplace=True)\n",
    "\n",
    "    return dataframe"
   ]
  },
  {
   "cell_type": "code",
   "execution_count": null,
   "metadata": {},
   "outputs": [],
   "source": [
    "trainds_null_cols = find_nullvalue_cols(train_ds)\n",
    "print(trainds_null_cols)\n",
    "\n",
    "predds_null_cols = find_nullvalue_cols(predict_ds)\n",
    "print(predds_null_cols)"
   ]
  },
  {
   "cell_type": "code",
   "execution_count": null,
   "metadata": {},
   "outputs": [],
   "source": [
    "# Get a list of unique values of each columns for deciding what values can be used to replace\n",
    "# null/missing values.\n",
    "train_cols_uniquevalues = unique_values(train_ds)\n",
    "pred_cols_uniquevalues = unique_values(predict_ds)"
   ]
  },
  {
   "cell_type": "code",
   "execution_count": null,
   "metadata": {},
   "outputs": [
    {
     "name": "stdout",
     "output_type": "stream",
     "text": [
      "[]\n",
      "[]\n"
     ]
    }
   ],
   "source": [
    "trainds_fill_nullvalue_list = [\"Unknown\", \"no_enrollment\", \"Unknown\", \"Other\", 0, \"Unknown\", \"Other\", \"never\"]\n",
    "train_ds = replace_nullvalues(train_ds, trainds_fill_nullvalue_list)\n",
    "doublecheck_null_trainds = find_nullvalue_cols(train_ds)\n",
    "print(doublecheck_null_trainds)\n",
    "\n",
    "predds_fill_nullvalue_list = [\"Unknown\", \"no_enrollment\", \"Unknown\", \"Other\", 0, \"Unknown\", \"Other\", \"never\"]\n",
    "predict_ds = replace_nullvalues(predict_ds, predds_fill_nullvalue_list)\n",
    "doublecheck_null = find_nullvalue_cols(predict_ds)\n",
    "print(doublecheck_null)"
   ]
  },
  {
   "cell_type": "markdown",
   "metadata": {},
   "source": [
    "<a id=\"section_3\"></a>\n",
    "#### Scaling Numerical Data and Encoding Categorical Data\n",
    "##### For dnn_model1 data:\n",
    "As city and experience have more than 20 unique values, we will embed these unique values to\n",
    "vectors when input data is fed in the model.\n",
    "1. Step 1 Standardscaler.\n",
    "    It is for columns: city_development_index, training_hours.\n",
    "2. Step 2 One-hot encoding.\n",
    "    It is for columns: from gender to last_new_job.\n",
    "3. Step 3 Ordinal encoding.\n",
    "    It is for columns: city, experience.\n",
    "\n",
    "##### For dnn_model2 data:\n",
    "The first three steps are the same as generating data for dnn_model1, but generating dnn_model2\n",
    "will have an extra step that is to scale city and experience columns after their ordinal encoding.\n",
    "1. Step 1 Standardscaler.\n",
    "    It is for columns: city_development_index, training_hours.\n",
    "2. Step 2 One-hot encoding.\n",
    "    It is for columns: from gender to last_new_job.\n",
    "3. Step 3 Ordinal encoding.\n",
    "4. Step 4 Standardscaler.\n",
    "    It is for columns: city, experience."
   ]
  },
  {
   "cell_type": "code",
   "execution_count": null,
   "metadata": {},
   "outputs": [],
   "source": [
    "# Change column positions in order to bulk preprocess columns\n",
    "train_ds = train_ds[[\"enrollee_id\", \"city_development_index\", \"training_hours\", \n",
    "                    \"gender\", \"relevent_experience\", \"enrolled_university\",\n",
    "                    \"education_level\", \"major_discipline\", \"company_size\", \n",
    "                    \"company_type\", \"last_new_job\", \"city\", \"experience\", \"target\"]]\n",
    "\n",
    "predict_ds = predict_ds[[\"enrollee_id\", \"city_development_index\",\n",
    "                    \"training_hours\", \"gender\", \"relevent_experience\",\n",
    "                    \"enrolled_university\", \"education_level\",\n",
    "                    \"major_discipline\", \"company_size\", \"company_type\", \n",
    "                    \"last_new_job\", \"city\", \"experience\"]]"
   ]
  },
  {
   "cell_type": "code",
   "execution_count": null,
   "metadata": {},
   "outputs": [],
   "source": [
    "def scale_numerical_values(dataframe, scale_cols_list, scale_method=\"standarscale\"):\n",
    "    \"\"\"\n",
    "    This function is to scale numerical columns to standard normal distributed data.\n",
    "\n",
    "    Args:\n",
    "    scale_cols_list:a list containing columns names, which the columns need to be scaled.\n",
    "    scale_method: default is standardscale, but can choose minmaxscale too.\n",
    "    \"\"\"\n",
    "    data = dataframe[scale_cols_list]\n",
    "    if scale_method == \"standarscale\":\n",
    "        \n",
    "        scale = preprocessing.StandardScaler()\n",
    "        scaled_data = scale.fit_transform(data)\n",
    "        # Drop original columns and add scaled columns back to the dataframe\n",
    "        dataframe = dataframe.drop(columns=scale_cols_list)\n",
    "        dataframe_index_list = dataframe.index.to_list()\n",
    "        scaled_cols_df = pd.DataFrame(data=scaled_data,\n",
    "                                    index=dataframe_index_list,\n",
    "                                    columns=scale_cols_list)\n",
    "        dataframe = pd.concat([dataframe, scaled_cols_df], axis=1)\n",
    "    \n",
    "    elif scale_method == \"minmaxscale\":\n",
    "        \n",
    "        scale = preprocessing.MinMaxScaler()\n",
    "        scaled_data = scale.fit_transform(data)\n",
    "        # drop original columns and add scaled columns back to the dataframe\n",
    "        dataframe = dataframe.drop(columns=scale_cols_list)\n",
    "        dataframe_index_list = dataframe.index.to_list()\n",
    "        scaled_cols_df = pd.DataFrame(data=scaled_data,\n",
    "                                    index=dataframe_index_list,\n",
    "                                    columns=scale_cols_list)\n",
    "        dataframe = pd.concat([dataframe, scaled_cols_df], axis=1)\n",
    "\n",
    "    return dataframe\n",
    "\n",
    "def encode_categorical_values(dataframe, encoding_cols_list, encoding_method=\"onehot\"):\n",
    "    \"\"\"\n",
    "    This function is to encode categorical data columns.\n",
    "\n",
    "    Args:\n",
    "    encoding_cols_list: a list containing column names, which the columns need to be encoded\n",
    "    encoding_method: default is onehot encoding, but can choose ordinal encoding too.\n",
    "    \"\"\"\n",
    "    data=dataframe[encoding_cols_list]\n",
    "    if encoding_method == \"onehot\":\n",
    "\n",
    "        encoder = preprocessing.OneHotEncoder()\n",
    "        # this is a compressed matrix. Need to convert it to a numpy array\n",
    "        encoding_data = encoder.fit_transform(data)\n",
    "        encoding_data = encoding_data.toarray()\n",
    "        # get new columns' names after one-hot encoding and convert it to a list\n",
    "        encoded_cols_names = encoder.get_feature_names_out(encoding_cols_list)\n",
    "        encoded_cols_names = encoded_cols_names.tolist()\n",
    "        # drop original columns and add scaled columns back to the dataframe\n",
    "        dataframe = dataframe.drop(columns=encoding_cols_list)\n",
    "        dataframe_index_list = dataframe.index.to_list()\n",
    "        encoded_cols_df = pd.DataFrame(data=encoding_data,\n",
    "                                        index=dataframe_index_list,\n",
    "                                        columns=encoded_cols_names)\n",
    "        dataframe = pd.concat([dataframe, encoded_cols_df], axis=1)\n",
    "\n",
    "    elif encoding_method == \"ordinal\":\n",
    "        \n",
    "        encoder = preprocessing.OrdinalEncoder()\n",
    "        encoding_data = encoder.fit_transform(data)\n",
    "        # drop original columns and add scaled columns back to the dataframe\n",
    "        dataframe = dataframe.drop(columns=encoding_cols_list)\n",
    "        dataframe_index_list = dataframe.index.to_list()\n",
    "        encoded_cols_df = pd.DataFrame(data=encoding_data,\n",
    "                                        index=dataframe_index_list,\n",
    "                                        columns=encoding_cols_list)\n",
    "        dataframe = pd.concat([dataframe, encoded_cols_df], axis=1)\n",
    "\n",
    "    return dataframe"
   ]
  },
  {
   "cell_type": "markdown",
   "metadata": {},
   "source": [
    "##### Step 1\n",
    "Standardising scale columns \"city_development_index\", \"training_hours\"."
   ]
  },
  {
   "cell_type": "code",
   "execution_count": null,
   "metadata": {},
   "outputs": [],
   "source": [
    "standardized_cols = [\"city_development_index\", \"training_hours\"]\n",
    "train_ds = scale_numerical_values(train_ds, standardized_cols)\n",
    "predict_ds = scale_numerical_values(predict_ds, standardized_cols)"
   ]
  },
  {
   "cell_type": "markdown",
   "metadata": {},
   "source": [
    "##### Step 2\n",
    "One-hot encoding columns \"gender\", ..., \"last_new_job\"."
   ]
  },
  {
   "cell_type": "code",
   "execution_count": null,
   "metadata": {},
   "outputs": [],
   "source": [
    "onehot_cols = [\"gender\", \"relevent_experience\", \"enrolled_university\",\n",
    "                \"education_level\", \"major_discipline\", \"company_size\",\n",
    "                \"company_type\", \"last_new_job\"]\n",
    "train_ds = encode_categorical_values(train_ds, onehot_cols)\n",
    "predict_ds = encode_categorical_values(predict_ds, onehot_cols)"
   ]
  },
  {
   "cell_type": "markdown",
   "metadata": {},
   "source": [
    "##### Step 3\n",
    "Ordinal encode columns \"city\", \"experience\"."
   ]
  },
  {
   "cell_type": "code",
   "execution_count": null,
   "metadata": {},
   "outputs": [],
   "source": [
    "ordinal_cols = [\"city\", \"experience\"]\n",
    "# Some values in the \"experience\" column are object,\n",
    "# so need to convert all values in encoding columns to the same datatype before encoding.\n",
    "train_ds[\"experience\"] = train_ds[\"experience\"].apply(lambda x: str(x))\n",
    "predict_ds[\"experience\"] = predict_ds[\"experience\"].apply(lambda x: str(x))\n",
    "\n",
    "train_ds = encode_categorical_values(train_ds, ordinal_cols, encoding_method=\"ordinal\")\n",
    "predict_ds = encode_categorical_values(predict_ds, ordinal_cols, encoding_method=\"ordinal\")"
   ]
  },
  {
   "cell_type": "markdown",
   "metadata": {},
   "source": [
    "##### Step 4\n",
    "Extra setp for generating data for dnn_model2.\n",
    "Standarscale columns \"city\", \"experience\"."
   ]
  },
  {
   "cell_type": "code",
   "execution_count": null,
   "metadata": {},
   "outputs": [],
   "source": [
    "# This process is to scale columns \"city\", \"experience\".\n",
    "# It is for model2's dataset.\n",
    "# Do not run this cell if it is for creating dataset for model1,\n",
    "# because the ordinal encoded columns \"city\", \"experience\" are used in\n",
    "# trainable embedding layers in model1. \n",
    "train_ds = scale_numerical_values(train_ds, ordinal_cols)\n",
    "predict_ds = scale_numerical_values(predict_ds, ordinal_cols)"
   ]
  },
  {
   "cell_type": "code",
   "execution_count": null,
   "metadata": {},
   "outputs": [
    {
     "data": {
      "text/html": [
       "<div>\n",
       "<style scoped>\n",
       "    .dataframe tbody tr th:only-of-type {\n",
       "        vertical-align: middle;\n",
       "    }\n",
       "\n",
       "    .dataframe tbody tr th {\n",
       "        vertical-align: top;\n",
       "    }\n",
       "\n",
       "    .dataframe thead th {\n",
       "        text-align: right;\n",
       "    }\n",
       "</style>\n",
       "<table border=\"1\" class=\"dataframe\">\n",
       "  <thead>\n",
       "    <tr style=\"text-align: right;\">\n",
       "      <th></th>\n",
       "      <th>enrollee_id</th>\n",
       "      <th>city_development_index</th>\n",
       "      <th>training_hours</th>\n",
       "      <th>gender_Female</th>\n",
       "      <th>gender_Male</th>\n",
       "      <th>gender_Other</th>\n",
       "      <th>gender_Unknown</th>\n",
       "      <th>relevent_experience_Has relevent experience</th>\n",
       "      <th>relevent_experience_No relevent experience</th>\n",
       "      <th>enrolled_university_Full time course</th>\n",
       "      <th>...</th>\n",
       "      <th>company_type_Public Sector</th>\n",
       "      <th>company_type_Pvt Ltd</th>\n",
       "      <th>last_new_job_1</th>\n",
       "      <th>last_new_job_2</th>\n",
       "      <th>last_new_job_3</th>\n",
       "      <th>last_new_job_4</th>\n",
       "      <th>last_new_job_&gt;4</th>\n",
       "      <th>last_new_job_never</th>\n",
       "      <th>city</th>\n",
       "      <th>experience</th>\n",
       "    </tr>\n",
       "  </thead>\n",
       "  <tbody>\n",
       "    <tr>\n",
       "      <th>0</th>\n",
       "      <td>32403</td>\n",
       "      <td>0.016126</td>\n",
       "      <td>-0.730319</td>\n",
       "      <td>0.0</td>\n",
       "      <td>1.0</td>\n",
       "      <td>0.0</td>\n",
       "      <td>0.0</td>\n",
       "      <td>1.0</td>\n",
       "      <td>0.0</td>\n",
       "      <td>1.0</td>\n",
       "      <td>...</td>\n",
       "      <td>0.0</td>\n",
       "      <td>0.0</td>\n",
       "      <td>1.0</td>\n",
       "      <td>0.0</td>\n",
       "      <td>0.0</td>\n",
       "      <td>0.0</td>\n",
       "      <td>0.0</td>\n",
       "      <td>0.0</td>\n",
       "      <td>69.0</td>\n",
       "      <td>20.0</td>\n",
       "    </tr>\n",
       "    <tr>\n",
       "      <th>1</th>\n",
       "      <td>9858</td>\n",
       "      <td>0.759860</td>\n",
       "      <td>0.548230</td>\n",
       "      <td>1.0</td>\n",
       "      <td>0.0</td>\n",
       "      <td>0.0</td>\n",
       "      <td>0.0</td>\n",
       "      <td>1.0</td>\n",
       "      <td>0.0</td>\n",
       "      <td>0.0</td>\n",
       "      <td>...</td>\n",
       "      <td>0.0</td>\n",
       "      <td>1.0</td>\n",
       "      <td>1.0</td>\n",
       "      <td>0.0</td>\n",
       "      <td>0.0</td>\n",
       "      <td>0.0</td>\n",
       "      <td>0.0</td>\n",
       "      <td>0.0</td>\n",
       "      <td>5.0</td>\n",
       "      <td>16.0</td>\n",
       "    </tr>\n",
       "    <tr>\n",
       "      <th>2</th>\n",
       "      <td>31806</td>\n",
       "      <td>-1.607295</td>\n",
       "      <td>-0.829946</td>\n",
       "      <td>0.0</td>\n",
       "      <td>1.0</td>\n",
       "      <td>0.0</td>\n",
       "      <td>0.0</td>\n",
       "      <td>0.0</td>\n",
       "      <td>1.0</td>\n",
       "      <td>0.0</td>\n",
       "      <td>...</td>\n",
       "      <td>0.0</td>\n",
       "      <td>1.0</td>\n",
       "      <td>0.0</td>\n",
       "      <td>0.0</td>\n",
       "      <td>0.0</td>\n",
       "      <td>0.0</td>\n",
       "      <td>0.0</td>\n",
       "      <td>1.0</td>\n",
       "      <td>55.0</td>\n",
       "      <td>21.0</td>\n",
       "    </tr>\n",
       "    <tr>\n",
       "      <th>3</th>\n",
       "      <td>27385</td>\n",
       "      <td>0.016126</td>\n",
       "      <td>-0.431437</td>\n",
       "      <td>0.0</td>\n",
       "      <td>1.0</td>\n",
       "      <td>0.0</td>\n",
       "      <td>0.0</td>\n",
       "      <td>1.0</td>\n",
       "      <td>0.0</td>\n",
       "      <td>0.0</td>\n",
       "      <td>...</td>\n",
       "      <td>0.0</td>\n",
       "      <td>1.0</td>\n",
       "      <td>1.0</td>\n",
       "      <td>0.0</td>\n",
       "      <td>0.0</td>\n",
       "      <td>0.0</td>\n",
       "      <td>0.0</td>\n",
       "      <td>0.0</td>\n",
       "      <td>22.0</td>\n",
       "      <td>3.0</td>\n",
       "    </tr>\n",
       "    <tr>\n",
       "      <th>4</th>\n",
       "      <td>27724</td>\n",
       "      <td>0.759860</td>\n",
       "      <td>0.116513</td>\n",
       "      <td>0.0</td>\n",
       "      <td>1.0</td>\n",
       "      <td>0.0</td>\n",
       "      <td>0.0</td>\n",
       "      <td>1.0</td>\n",
       "      <td>0.0</td>\n",
       "      <td>0.0</td>\n",
       "      <td>...</td>\n",
       "      <td>0.0</td>\n",
       "      <td>1.0</td>\n",
       "      <td>0.0</td>\n",
       "      <td>0.0</td>\n",
       "      <td>0.0</td>\n",
       "      <td>0.0</td>\n",
       "      <td>1.0</td>\n",
       "      <td>0.0</td>\n",
       "      <td>5.0</td>\n",
       "      <td>22.0</td>\n",
       "    </tr>\n",
       "  </tbody>\n",
       "</table>\n",
       "<p>5 rows × 47 columns</p>\n",
       "</div>"
      ],
      "text/plain": [
       "   enrollee_id  city_development_index  training_hours  gender_Female  \\\n",
       "0        32403                0.016126       -0.730319            0.0   \n",
       "1         9858                0.759860        0.548230            1.0   \n",
       "2        31806               -1.607295       -0.829946            0.0   \n",
       "3        27385                0.016126       -0.431437            0.0   \n",
       "4        27724                0.759860        0.116513            0.0   \n",
       "\n",
       "   gender_Male  gender_Other  gender_Unknown  \\\n",
       "0          1.0           0.0             0.0   \n",
       "1          0.0           0.0             0.0   \n",
       "2          1.0           0.0             0.0   \n",
       "3          1.0           0.0             0.0   \n",
       "4          1.0           0.0             0.0   \n",
       "\n",
       "   relevent_experience_Has relevent experience  \\\n",
       "0                                          1.0   \n",
       "1                                          1.0   \n",
       "2                                          0.0   \n",
       "3                                          1.0   \n",
       "4                                          1.0   \n",
       "\n",
       "   relevent_experience_No relevent experience  \\\n",
       "0                                         0.0   \n",
       "1                                         0.0   \n",
       "2                                         1.0   \n",
       "3                                         0.0   \n",
       "4                                         0.0   \n",
       "\n",
       "   enrolled_university_Full time course  ...  company_type_Public Sector  \\\n",
       "0                                   1.0  ...                         0.0   \n",
       "1                                   0.0  ...                         0.0   \n",
       "2                                   0.0  ...                         0.0   \n",
       "3                                   0.0  ...                         0.0   \n",
       "4                                   0.0  ...                         0.0   \n",
       "\n",
       "   company_type_Pvt Ltd  last_new_job_1  last_new_job_2  last_new_job_3  \\\n",
       "0                   0.0             1.0             0.0             0.0   \n",
       "1                   1.0             1.0             0.0             0.0   \n",
       "2                   1.0             0.0             0.0             0.0   \n",
       "3                   1.0             1.0             0.0             0.0   \n",
       "4                   1.0             0.0             0.0             0.0   \n",
       "\n",
       "   last_new_job_4  last_new_job_>4  last_new_job_never  city  experience  \n",
       "0             0.0              0.0                 0.0  69.0        20.0  \n",
       "1             0.0              0.0                 0.0   5.0        16.0  \n",
       "2             0.0              0.0                 1.0  55.0        21.0  \n",
       "3             0.0              0.0                 0.0  22.0         3.0  \n",
       "4             0.0              1.0                 0.0   5.0        22.0  \n",
       "\n",
       "[5 rows x 47 columns]"
      ]
     },
     "execution_count": 11,
     "metadata": {},
     "output_type": "execute_result"
    }
   ],
   "source": [
    "# View preprocessed dataset.\n",
    "predict_ds.head(5)"
   ]
  },
  {
   "cell_type": "code",
   "execution_count": null,
   "metadata": {},
   "outputs": [],
   "source": [
    "# Create and save a prediction dataset.\n",
    "predict_ds.drop(columns=\"enrollee_id\", inplace=True)\n",
    "predict_ds_arr = predict_ds.to_numpy()\n",
    "np.savetxt(f\"{root_dir}\\\\model2_data\\\\prediction_ds.txt\", predict_ds_arr, delimiter=\",\")\n",
    "# Save processed training data before splitting.\n",
    "train_ds.to_csv(f\"{root_dir}\\\\original_data\\\\model2_preprocessed_train.csv\")"
   ]
  },
  {
   "cell_type": "markdown",
   "metadata": {},
   "source": [
    "<a id=\"section_4\"></a>\n",
    "#### Split Train and Test Sets"
   ]
  },
  {
   "cell_type": "code",
   "execution_count": null,
   "metadata": {},
   "outputs": [
    {
     "name": "stdout",
     "output_type": "stream",
     "text": [
      "<class 'pandas.core.frame.DataFrame'>\n"
     ]
    }
   ],
   "source": [
    "x_train, x_test = train_test_split(train_ds, test_size=0.2, shuffle=True, random_state=42)\n",
    "print(type(x_train))"
   ]
  },
  {
   "cell_type": "code",
   "execution_count": null,
   "metadata": {},
   "outputs": [
    {
     "name": "stdout",
     "output_type": "stream",
     "text": [
      "<class 'numpy.ndarray'>\n",
      "(15326,)\n"
     ]
    }
   ],
   "source": [
    "# Create label data.\n",
    "y_train = x_train[\"target\"].to_numpy()\n",
    "y_test = x_test[\"target\"].to_numpy()\n",
    "print(type(y_train))\n",
    "print(y_train.shape) # Shape is (15326,)\n",
    "\n",
    "# Need to reshape to a 2-d array before saving.\n",
    "y_train_arr = y_train.reshape(y_train.shape[0], 1)\n",
    "y_test_arr = y_test.reshape(y_test.shape[0], 1)"
   ]
  },
  {
   "cell_type": "code",
   "execution_count": null,
   "metadata": {},
   "outputs": [],
   "source": [
    "# Create train and test input data by dropping columns \"enrollee_id\", \"target\".\n",
    "x_train.drop(columns=[\"enrollee_id\", \"target\"], inplace=True)\n",
    "x_train = x_train.to_numpy()\n",
    "\n",
    "x_test.drop(columns=[\"enrollee_id\", \"target\"], inplace=True)\n",
    "x_test = x_test.to_numpy()"
   ]
  },
  {
   "cell_type": "markdown",
   "metadata": {},
   "source": [
    "<a id=\"section_5\"></a>\n",
    "#### Resample Train Dataset\n",
    "The dataset is imbalanced.\n",
    "The minority class (label 1) to majority class (label 0) ratio is approximate 1:3.<br>\n",
    "I will use two approachs to deal with this problem.<br>\n",
    "1. It is to set class weights during model training. Please check result_check.ipynb.<br>\n",
    "2. It is to oversample minority class of the input data. The oversampling is shown as\n",
    "below."
   ]
  },
  {
   "cell_type": "code",
   "execution_count": null,
   "metadata": {},
   "outputs": [
    {
     "name": "stdout",
     "output_type": "stream",
     "text": [
      "class_0: 11501\n",
      "class_1: 3825\n",
      "Examples:\n",
      " Total: 15326\n",
      " class_1: 3825 (24.96% of total)\n",
      "\n"
     ]
    },
    {
     "data": {
      "text/plain": [
       "<BarContainer object of 2 artists>"
      ]
     },
     "execution_count": 15,
     "metadata": {},
     "output_type": "execute_result"
    },
    {
     "data": {
      "image/png": "[encoded data removed]",
      "text/plain": [
       "<Figure size 432x288 with 1 Axes>"
      ]
     },
     "metadata": {
      "needs_background": "light"
     },
     "output_type": "display_data"
    }
   ],
   "source": [
    "class_0, class_1 = np.bincount(y_train.astype(int))\n",
    "total = class_0 + class_1\n",
    "print(\"class_0: {}\".format(class_0))\n",
    "print(\"class_1: {}\".format(class_1))\n",
    "print(\"Examples:\\n Total: {}\\n class_1: {} ({:.2f}% of total)\\n\".format(\n",
    "    total, class_1, 100 * class_1 / total)\n",
    "    )\n",
    "\n",
    "plt.bar([\"0\", \"1\"], [class_0, class_1])"
   ]
  },
  {
   "cell_type": "markdown",
   "metadata": {},
   "source": [
    "##### Resampling will use imbalanced-learn's RandomOverSampler or SMOTE"
   ]
  },
  {
   "cell_type": "code",
   "execution_count": null,
   "metadata": {},
   "outputs": [
    {
     "data": {
      "text/plain": [
       "<BarContainer object of 2 artists>"
      ]
     },
     "execution_count": 20,
     "metadata": {},
     "output_type": "execute_result"
    },
    {
     "data": {
      "image/png": "[encoded data removed]",
      "text/plain": [
       "<Figure size 432x288 with 1 Axes>"
      ]
     },
     "metadata": {
      "needs_background": "light"
     },
     "output_type": "display_data"
    }
   ],
   "source": [
    "from imblearn.over_sampling import RandomOverSampler\n",
    "\n",
    "ros = RandomOverSampler(random_state=42)\n",
    "X_ros, y_ros = ros.fit_resample(x_train, y_train)\n",
    "\n",
    "plt.bar([\"0\", \"1\"], [y_ros[y_ros==0].shape[0], y_ros[y_ros==1].shape[0]])"
   ]
  },
  {
   "cell_type": "code",
   "execution_count": null,
   "metadata": {},
   "outputs": [
    {
     "data": {
      "image/png": "[encoded data removed]",
      "text/plain": [
       "<Figure size 432x288 with 1 Axes>"
      ]
     },
     "metadata": {
      "needs_background": "light"
     },
     "output_type": "display_data"
    }
   ],
   "source": [
    "colours = [\"#0343DF\", \"#FFFF00\"]\n",
    "for l, c in zip(np.unique(y_ros), colours):\n",
    "    plt.scatter(X_ros[y_ros==l, 0], X_ros[y_ros==l, 1], c=c)"
   ]
  },
  {
   "cell_type": "code",
   "execution_count": null,
   "metadata": {},
   "outputs": [
    {
     "data": {
      "text/plain": [
       "<BarContainer object of 2 artists>"
      ]
     },
     "execution_count": 16,
     "metadata": {},
     "output_type": "execute_result"
    },
    {
     "data": {
      "image/png": "[encoded data removed]",
      "text/plain": [
       "<Figure size 432x288 with 1 Axes>"
      ]
     },
     "metadata": {
      "needs_background": "light"
     },
     "output_type": "display_data"
    }
   ],
   "source": [
    "from imblearn.over_sampling import SMOTE\n",
    "\n",
    "smo = SMOTE(random_state=32)\n",
    "X_smo, y_smo = smo.fit_resample(x_train, y_train)\n",
    "\n",
    "plt.bar([\"0\", \"1\"], [y_smo[y_smo==0].shape[0], y_smo[y_smo==1].shape[0]])"
   ]
  },
  {
   "cell_type": "code",
   "execution_count": null,
   "metadata": {},
   "outputs": [
    {
     "data": {
      "image/png": "[encoded data removed]",
      "text/plain": [
       "<Figure size 432x288 with 1 Axes>"
      ]
     },
     "metadata": {
      "needs_background": "light"
     },
     "output_type": "display_data"
    }
   ],
   "source": [
    "colours = [\"#0343DF\", \"#FFFF00\"]\n",
    "for l, c in zip(np.unique(y_smo), colours):\n",
    "    plt.scatter(X_smo[y_smo==l, 0], X_smo[y_smo==l, 1], c=c)"
   ]
  }
 ],
 "metadata": {
  "kernelspec": {
   "display_name": "Python 3.10.4 ('env': venv)",
   "language": "python",
   "name": "python3"
  },
  "language_info": {
   "codemirror_mode": {
    "name": "ipython",
    "version": 3
   },
   "file_extension": ".py",
   "mimetype": "text/x-python",
   "name": "python",
   "nbconvert_exporter": "python",
   "pygments_lexer": "ipython3",
   "version": "3.10.4"
  },
  "orig_nbformat": 4,
  "vscode": {
   "interpreter": {
    "hash": "b12e852b58473a62befc295686cbd32533892fe3a5f20991ce3e0f8c624165fe"
   }
  }
 },
 "nbformat": 4,
 "nbformat_minor": 2
}
